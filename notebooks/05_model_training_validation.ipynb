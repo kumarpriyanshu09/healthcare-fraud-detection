{
  "nbformat": 4,
  "nbformat_minor": 0,
  "metadata": {
    "colab": {
      "provenance": [],
      "gpuType": "T4"
    },
    "kernelspec": {
      "name": "python3",
      "display_name": "Python 3"
    },
    "language_info": {
      "name": "python"
    },
    "accelerator": "GPU"
  },
  "cells": [
    {
      "cell_type": "markdown",
      "source": [
        "\n",
        "\n",
        "\n",
        "##Step 1: Setup & Load Data\n",
        "\n",
        "\n"
      ],
      "metadata": {
        "id": "6J3GA8JipcxK"
      }
    },
    {
      "cell_type": "code",
      "execution_count": 1,
      "metadata": {
        "colab": {
          "base_uri": "https://localhost:8080/"
        },
        "collapsed": true,
        "id": "SFPUP_jkpGn7",
        "outputId": "5a810542-4b1e-48de-c94c-ade25b2dba54"
      },
      "outputs": [
        {
          "output_type": "stream",
          "name": "stdout",
          "text": [
            "Collecting mlflow\n",
            "  Downloading mlflow-3.1.0-py3-none-any.whl.metadata (29 kB)\n",
            "Collecting mlflow-skinny==3.1.0 (from mlflow)\n",
            "  Downloading mlflow_skinny-3.1.0-py3-none-any.whl.metadata (30 kB)\n",
            "Requirement already satisfied: Flask<4 in /usr/local/lib/python3.11/dist-packages (from mlflow) (3.1.1)\n",
            "Collecting alembic!=1.10.0,<2 (from mlflow)\n",
            "  Downloading alembic-1.16.1-py3-none-any.whl.metadata (7.3 kB)\n",
            "Collecting docker<8,>=4.0.0 (from mlflow)\n",
            "  Downloading docker-7.1.0-py3-none-any.whl.metadata (3.8 kB)\n",
            "Collecting graphene<4 (from mlflow)\n",
            "  Downloading graphene-3.4.3-py2.py3-none-any.whl.metadata (6.9 kB)\n",
            "Collecting gunicorn<24 (from mlflow)\n",
            "  Downloading gunicorn-23.0.0-py3-none-any.whl.metadata (4.4 kB)\n",
            "Requirement already satisfied: matplotlib<4 in /usr/local/lib/python3.11/dist-packages (from mlflow) (3.10.0)\n",
            "Requirement already satisfied: numpy<3 in /usr/local/lib/python3.11/dist-packages (from mlflow) (2.0.2)\n",
            "Requirement already satisfied: pandas<3 in /usr/local/lib/python3.11/dist-packages (from mlflow) (2.2.2)\n",
            "Requirement already satisfied: pyarrow<21,>=4.0.0 in /usr/local/lib/python3.11/dist-packages (from mlflow) (18.1.0)\n",
            "Requirement already satisfied: scikit-learn<2 in /usr/local/lib/python3.11/dist-packages (from mlflow) (1.6.1)\n",
            "Requirement already satisfied: scipy<2 in /usr/local/lib/python3.11/dist-packages (from mlflow) (1.15.3)\n",
            "Requirement already satisfied: sqlalchemy<3,>=1.4.0 in /usr/local/lib/python3.11/dist-packages (from mlflow) (2.0.41)\n",
            "Requirement already satisfied: cachetools<7,>=5.0.0 in /usr/local/lib/python3.11/dist-packages (from mlflow-skinny==3.1.0->mlflow) (5.5.2)\n",
            "Requirement already satisfied: click<9,>=7.0 in /usr/local/lib/python3.11/dist-packages (from mlflow-skinny==3.1.0->mlflow) (8.2.1)\n",
            "Requirement already satisfied: cloudpickle<4 in /usr/local/lib/python3.11/dist-packages (from mlflow-skinny==3.1.0->mlflow) (3.1.1)\n",
            "Collecting databricks-sdk<1,>=0.20.0 (from mlflow-skinny==3.1.0->mlflow)\n",
            "  Downloading databricks_sdk-0.56.0-py3-none-any.whl.metadata (39 kB)\n",
            "Requirement already satisfied: fastapi<1 in /usr/local/lib/python3.11/dist-packages (from mlflow-skinny==3.1.0->mlflow) (0.115.12)\n",
            "Requirement already satisfied: gitpython<4,>=3.1.9 in /usr/local/lib/python3.11/dist-packages (from mlflow-skinny==3.1.0->mlflow) (3.1.44)\n",
            "Requirement already satisfied: importlib_metadata!=4.7.0,<9,>=3.7.0 in /usr/local/lib/python3.11/dist-packages (from mlflow-skinny==3.1.0->mlflow) (8.7.0)\n",
            "Collecting opentelemetry-api<3,>=1.9.0 (from mlflow-skinny==3.1.0->mlflow)\n",
            "  Downloading opentelemetry_api-1.34.1-py3-none-any.whl.metadata (1.5 kB)\n",
            "Collecting opentelemetry-sdk<3,>=1.9.0 (from mlflow-skinny==3.1.0->mlflow)\n",
            "  Downloading opentelemetry_sdk-1.34.1-py3-none-any.whl.metadata (1.6 kB)\n",
            "Requirement already satisfied: packaging<26 in /usr/local/lib/python3.11/dist-packages (from mlflow-skinny==3.1.0->mlflow) (24.2)\n",
            "Requirement already satisfied: protobuf<7,>=3.12.0 in /usr/local/lib/python3.11/dist-packages (from mlflow-skinny==3.1.0->mlflow) (5.29.5)\n",
            "Requirement already satisfied: pydantic<3,>=1.10.8 in /usr/local/lib/python3.11/dist-packages (from mlflow-skinny==3.1.0->mlflow) (2.11.5)\n",
            "Requirement already satisfied: pyyaml<7,>=5.1 in /usr/local/lib/python3.11/dist-packages (from mlflow-skinny==3.1.0->mlflow) (6.0.2)\n",
            "Requirement already satisfied: requests<3,>=2.17.3 in /usr/local/lib/python3.11/dist-packages (from mlflow-skinny==3.1.0->mlflow) (2.32.3)\n",
            "Requirement already satisfied: sqlparse<1,>=0.4.0 in /usr/local/lib/python3.11/dist-packages (from mlflow-skinny==3.1.0->mlflow) (0.5.3)\n",
            "Requirement already satisfied: typing-extensions<5,>=4.0.0 in /usr/local/lib/python3.11/dist-packages (from mlflow-skinny==3.1.0->mlflow) (4.14.0)\n",
            "Requirement already satisfied: uvicorn<1 in /usr/local/lib/python3.11/dist-packages (from mlflow-skinny==3.1.0->mlflow) (0.34.3)\n",
            "Requirement already satisfied: Mako in /usr/lib/python3/dist-packages (from alembic!=1.10.0,<2->mlflow) (1.1.3)\n",
            "Requirement already satisfied: urllib3>=1.26.0 in /usr/local/lib/python3.11/dist-packages (from docker<8,>=4.0.0->mlflow) (2.4.0)\n",
            "Requirement already satisfied: blinker>=1.9.0 in /usr/local/lib/python3.11/dist-packages (from Flask<4->mlflow) (1.9.0)\n",
            "Requirement already satisfied: itsdangerous>=2.2.0 in /usr/local/lib/python3.11/dist-packages (from Flask<4->mlflow) (2.2.0)\n",
            "Requirement already satisfied: jinja2>=3.1.2 in /usr/local/lib/python3.11/dist-packages (from Flask<4->mlflow) (3.1.6)\n",
            "Requirement already satisfied: markupsafe>=2.1.1 in /usr/local/lib/python3.11/dist-packages (from Flask<4->mlflow) (3.0.2)\n",
            "Requirement already satisfied: werkzeug>=3.1.0 in /usr/local/lib/python3.11/dist-packages (from Flask<4->mlflow) (3.1.3)\n",
            "Collecting graphql-core<3.3,>=3.1 (from graphene<4->mlflow)\n",
            "  Downloading graphql_core-3.2.6-py3-none-any.whl.metadata (11 kB)\n",
            "Collecting graphql-relay<3.3,>=3.1 (from graphene<4->mlflow)\n",
            "  Downloading graphql_relay-3.2.0-py3-none-any.whl.metadata (12 kB)\n",
            "Requirement already satisfied: python-dateutil<3,>=2.7.0 in /usr/local/lib/python3.11/dist-packages (from graphene<4->mlflow) (2.9.0.post0)\n",
            "Requirement already satisfied: contourpy>=1.0.1 in /usr/local/lib/python3.11/dist-packages (from matplotlib<4->mlflow) (1.3.2)\n",
            "Requirement already satisfied: cycler>=0.10 in /usr/local/lib/python3.11/dist-packages (from matplotlib<4->mlflow) (0.12.1)\n",
            "Requirement already satisfied: fonttools>=4.22.0 in /usr/local/lib/python3.11/dist-packages (from matplotlib<4->mlflow) (4.58.1)\n",
            "Requirement already satisfied: kiwisolver>=1.3.1 in /usr/local/lib/python3.11/dist-packages (from matplotlib<4->mlflow) (1.4.8)\n",
            "Requirement already satisfied: pillow>=8 in /usr/local/lib/python3.11/dist-packages (from matplotlib<4->mlflow) (11.2.1)\n",
            "Requirement already satisfied: pyparsing>=2.3.1 in /usr/local/lib/python3.11/dist-packages (from matplotlib<4->mlflow) (3.2.3)\n",
            "Requirement already satisfied: pytz>=2020.1 in /usr/local/lib/python3.11/dist-packages (from pandas<3->mlflow) (2025.2)\n",
            "Requirement already satisfied: tzdata>=2022.7 in /usr/local/lib/python3.11/dist-packages (from pandas<3->mlflow) (2025.2)\n",
            "Requirement already satisfied: joblib>=1.2.0 in /usr/local/lib/python3.11/dist-packages (from scikit-learn<2->mlflow) (1.5.1)\n",
            "Requirement already satisfied: threadpoolctl>=3.1.0 in /usr/local/lib/python3.11/dist-packages (from scikit-learn<2->mlflow) (3.6.0)\n",
            "Requirement already satisfied: greenlet>=1 in /usr/local/lib/python3.11/dist-packages (from sqlalchemy<3,>=1.4.0->mlflow) (3.2.2)\n",
            "Requirement already satisfied: google-auth~=2.0 in /usr/local/lib/python3.11/dist-packages (from databricks-sdk<1,>=0.20.0->mlflow-skinny==3.1.0->mlflow) (2.38.0)\n",
            "Requirement already satisfied: starlette<0.47.0,>=0.40.0 in /usr/local/lib/python3.11/dist-packages (from fastapi<1->mlflow-skinny==3.1.0->mlflow) (0.46.2)\n",
            "Requirement already satisfied: gitdb<5,>=4.0.1 in /usr/local/lib/python3.11/dist-packages (from gitpython<4,>=3.1.9->mlflow-skinny==3.1.0->mlflow) (4.0.12)\n",
            "Requirement already satisfied: zipp>=3.20 in /usr/local/lib/python3.11/dist-packages (from importlib_metadata!=4.7.0,<9,>=3.7.0->mlflow-skinny==3.1.0->mlflow) (3.22.0)\n",
            "Collecting opentelemetry-semantic-conventions==0.55b1 (from opentelemetry-sdk<3,>=1.9.0->mlflow-skinny==3.1.0->mlflow)\n",
            "  Downloading opentelemetry_semantic_conventions-0.55b1-py3-none-any.whl.metadata (2.5 kB)\n",
            "Requirement already satisfied: annotated-types>=0.6.0 in /usr/local/lib/python3.11/dist-packages (from pydantic<3,>=1.10.8->mlflow-skinny==3.1.0->mlflow) (0.7.0)\n",
            "Requirement already satisfied: pydantic-core==2.33.2 in /usr/local/lib/python3.11/dist-packages (from pydantic<3,>=1.10.8->mlflow-skinny==3.1.0->mlflow) (2.33.2)\n",
            "Requirement already satisfied: typing-inspection>=0.4.0 in /usr/local/lib/python3.11/dist-packages (from pydantic<3,>=1.10.8->mlflow-skinny==3.1.0->mlflow) (0.4.1)\n",
            "Requirement already satisfied: six>=1.5 in /usr/local/lib/python3.11/dist-packages (from python-dateutil<3,>=2.7.0->graphene<4->mlflow) (1.17.0)\n",
            "Requirement already satisfied: charset-normalizer<4,>=2 in /usr/local/lib/python3.11/dist-packages (from requests<3,>=2.17.3->mlflow-skinny==3.1.0->mlflow) (3.4.2)\n",
            "Requirement already satisfied: idna<4,>=2.5 in /usr/local/lib/python3.11/dist-packages (from requests<3,>=2.17.3->mlflow-skinny==3.1.0->mlflow) (3.10)\n",
            "Requirement already satisfied: certifi>=2017.4.17 in /usr/local/lib/python3.11/dist-packages (from requests<3,>=2.17.3->mlflow-skinny==3.1.0->mlflow) (2025.4.26)\n",
            "Requirement already satisfied: h11>=0.8 in /usr/local/lib/python3.11/dist-packages (from uvicorn<1->mlflow-skinny==3.1.0->mlflow) (0.16.0)\n",
            "Requirement already satisfied: smmap<6,>=3.0.1 in /usr/local/lib/python3.11/dist-packages (from gitdb<5,>=4.0.1->gitpython<4,>=3.1.9->mlflow-skinny==3.1.0->mlflow) (5.0.2)\n",
            "Requirement already satisfied: pyasn1-modules>=0.2.1 in /usr/local/lib/python3.11/dist-packages (from google-auth~=2.0->databricks-sdk<1,>=0.20.0->mlflow-skinny==3.1.0->mlflow) (0.4.2)\n",
            "Requirement already satisfied: rsa<5,>=3.1.4 in /usr/local/lib/python3.11/dist-packages (from google-auth~=2.0->databricks-sdk<1,>=0.20.0->mlflow-skinny==3.1.0->mlflow) (4.9.1)\n",
            "Requirement already satisfied: anyio<5,>=3.6.2 in /usr/local/lib/python3.11/dist-packages (from starlette<0.47.0,>=0.40.0->fastapi<1->mlflow-skinny==3.1.0->mlflow) (4.9.0)\n",
            "Requirement already satisfied: sniffio>=1.1 in /usr/local/lib/python3.11/dist-packages (from anyio<5,>=3.6.2->starlette<0.47.0,>=0.40.0->fastapi<1->mlflow-skinny==3.1.0->mlflow) (1.3.1)\n",
            "Requirement already satisfied: pyasn1<0.7.0,>=0.6.1 in /usr/local/lib/python3.11/dist-packages (from pyasn1-modules>=0.2.1->google-auth~=2.0->databricks-sdk<1,>=0.20.0->mlflow-skinny==3.1.0->mlflow) (0.6.1)\n",
            "Downloading mlflow-3.1.0-py3-none-any.whl (24.7 MB)\n",
            "\u001b[2K   \u001b[90m━━━━━━━━━━━━━━━━━━━━━━━━━━━━━━━━━━━━━━━━\u001b[0m \u001b[32m24.7/24.7 MB\u001b[0m \u001b[31m30.1 MB/s\u001b[0m eta \u001b[36m0:00:00\u001b[0m\n",
            "\u001b[?25hDownloading mlflow_skinny-3.1.0-py3-none-any.whl (1.9 MB)\n",
            "\u001b[2K   \u001b[90m━━━━━━━━━━━━━━━━━━━━━━━━━━━━━━━━━━━━━━━━\u001b[0m \u001b[32m1.9/1.9 MB\u001b[0m \u001b[31m40.1 MB/s\u001b[0m eta \u001b[36m0:00:00\u001b[0m\n",
            "\u001b[?25hDownloading alembic-1.16.1-py3-none-any.whl (242 kB)\n",
            "\u001b[2K   \u001b[90m━━━━━━━━━━━━━━━━━━━━━━━━━━━━━━━━━━━━━━━━\u001b[0m \u001b[32m242.5/242.5 kB\u001b[0m \u001b[31m11.1 MB/s\u001b[0m eta \u001b[36m0:00:00\u001b[0m\n",
            "\u001b[?25hDownloading docker-7.1.0-py3-none-any.whl (147 kB)\n",
            "\u001b[2K   \u001b[90m━━━━━━━━━━━━━━━━━━━━━━━━━━━━━━━━━━━━━━━━\u001b[0m \u001b[32m147.8/147.8 kB\u001b[0m \u001b[31m10.7 MB/s\u001b[0m eta \u001b[36m0:00:00\u001b[0m\n",
            "\u001b[?25hDownloading graphene-3.4.3-py2.py3-none-any.whl (114 kB)\n",
            "\u001b[2K   \u001b[90m━━━━━━━━━━━━━━━━━━━━━━━━━━━━━━━━━━━━━━━━\u001b[0m \u001b[32m114.9/114.9 kB\u001b[0m \u001b[31m11.2 MB/s\u001b[0m eta \u001b[36m0:00:00\u001b[0m\n",
            "\u001b[?25hDownloading gunicorn-23.0.0-py3-none-any.whl (85 kB)\n",
            "\u001b[2K   \u001b[90m━━━━━━━━━━━━━━━━━━━━━━━━━━━━━━━━━━━━━━━━\u001b[0m \u001b[32m85.0/85.0 kB\u001b[0m \u001b[31m8.8 MB/s\u001b[0m eta \u001b[36m0:00:00\u001b[0m\n",
            "\u001b[?25hDownloading databricks_sdk-0.56.0-py3-none-any.whl (733 kB)\n",
            "\u001b[2K   \u001b[90m━━━━━━━━━━━━━━━━━━━━━━━━━━━━━━━━━━━━━━━━\u001b[0m \u001b[32m733.7/733.7 kB\u001b[0m \u001b[31m18.5 MB/s\u001b[0m eta \u001b[36m0:00:00\u001b[0m\n",
            "\u001b[?25hDownloading graphql_core-3.2.6-py3-none-any.whl (203 kB)\n",
            "\u001b[2K   \u001b[90m━━━━━━━━━━━━━━━━━━━━━━━━━━━━━━━━━━━━━━━━\u001b[0m \u001b[32m203.4/203.4 kB\u001b[0m \u001b[31m15.2 MB/s\u001b[0m eta \u001b[36m0:00:00\u001b[0m\n",
            "\u001b[?25hDownloading graphql_relay-3.2.0-py3-none-any.whl (16 kB)\n",
            "Downloading opentelemetry_api-1.34.1-py3-none-any.whl (65 kB)\n",
            "\u001b[2K   \u001b[90m━━━━━━━━━━━━━━━━━━━━━━━━━━━━━━━━━━━━━━━━\u001b[0m \u001b[32m65.8/65.8 kB\u001b[0m \u001b[31m4.4 MB/s\u001b[0m eta \u001b[36m0:00:00\u001b[0m\n",
            "\u001b[?25hDownloading opentelemetry_sdk-1.34.1-py3-none-any.whl (118 kB)\n",
            "\u001b[2K   \u001b[90m━━━━━━━━━━━━━━━━━━━━━━━━━━━━━━━━━━━━━━━━\u001b[0m \u001b[32m118.5/118.5 kB\u001b[0m \u001b[31m12.5 MB/s\u001b[0m eta \u001b[36m0:00:00\u001b[0m\n",
            "\u001b[?25hDownloading opentelemetry_semantic_conventions-0.55b1-py3-none-any.whl (196 kB)\n",
            "\u001b[2K   \u001b[90m━━━━━━━━━━━━━━━━━━━━━━━━━━━━━━━━━━━━━━━━\u001b[0m \u001b[32m196.2/196.2 kB\u001b[0m \u001b[31m10.7 MB/s\u001b[0m eta \u001b[36m0:00:00\u001b[0m\n",
            "\u001b[?25hInstalling collected packages: gunicorn, graphql-core, opentelemetry-api, graphql-relay, docker, alembic, opentelemetry-semantic-conventions, graphene, databricks-sdk, opentelemetry-sdk, mlflow-skinny, mlflow\n",
            "Successfully installed alembic-1.16.1 databricks-sdk-0.56.0 docker-7.1.0 graphene-3.4.3 graphql-core-3.2.6 graphql-relay-3.2.0 gunicorn-23.0.0 mlflow-3.1.0 mlflow-skinny-3.1.0 opentelemetry-api-1.34.1 opentelemetry-sdk-1.34.1 opentelemetry-semantic-conventions-0.55b1\n"
          ]
        },
        {
          "output_type": "stream",
          "name": "stderr",
          "text": [
            "2025/06/12 21:41:48 INFO mlflow.tracking.fluent: Experiment with name 'healthcare_fraud_detection' does not exist. Creating a new experiment.\n"
          ]
        },
        {
          "output_type": "stream",
          "name": "stdout",
          "text": [
            "Spark session and MLflow configured.\n"
          ]
        }
      ],
      "source": [
        "# Step 1.1: Imports, Spark Session, and MLflow Setup\n",
        "!pip install mlflow\n",
        "\n",
        "import pandas as pd\n",
        "import numpy as np\n",
        "import matplotlib.pyplot as plt\n",
        "import os\n",
        "\n",
        "# Spark setup (if not already running)\n",
        "from pyspark.sql import SparkSession\n",
        "\n",
        "spark = SparkSession.builder \\\n",
        "    .appName(\"Healthcare Fraud Modeling\") \\\n",
        "    .getOrCreate()\n",
        "\n",
        "# MLflow setup for local logging in Colab\n",
        "import mlflow\n",
        "mlflow.set_tracking_uri(\"file:///content/mlruns\")\n",
        "mlflow.set_experiment(\"healthcare_fraud_detection\")\n",
        "\n",
        "print(\"Spark session and MLflow configured.\")\n"
      ]
    },
    {
      "cell_type": "code",
      "source": [
        "# Step 1.2: Load Processed Feature Data\n",
        "\n",
        "# Paths to your processed files\n",
        "BASE_PATH = \"/content/drive/MyDrive/healthcarefraud_detection/data/processed/\"\n",
        "\n",
        "feature_table = pd.read_parquet(BASE_PATH + \"feature_table_full.parquet\")\n",
        "X_full = pd.read_parquet(BASE_PATH + \"X_full.parquet\")\n",
        "X_reduced = pd.read_parquet(BASE_PATH + \"X_reduced.parquet\")\n",
        "y = pd.read_parquet(BASE_PATH + \"y.parquet\").squeeze()  # convert to Series\n",
        "\n",
        "print(\"feature_table shape:\", feature_table.shape)\n",
        "print(\"X_full shape:\", X_full.shape)\n",
        "print(\"X_reduced shape:\", X_reduced.shape)\n",
        "print(\"y shape:\", y.shape)\n",
        "print(\"Class balance:\\n\", y.value_counts(normalize=True))\n"
      ],
      "metadata": {
        "colab": {
          "base_uri": "https://localhost:8080/"
        },
        "id": "UV-eJoELpQzb",
        "outputId": "55dd3f14-52a4-484c-a007-ff55f04d7cd1"
      },
      "execution_count": 2,
      "outputs": [
        {
          "output_type": "stream",
          "name": "stdout",
          "text": [
            "feature_table shape: (5410, 31)\n",
            "X_full shape: (5410, 28)\n",
            "X_reduced shape: (5410, 25)\n",
            "y shape: (5410,)\n",
            "Class balance:\n",
            " PotentialFraud\n",
            "0    0.90647\n",
            "1    0.09353\n",
            "Name: proportion, dtype: float64\n"
          ]
        }
      ]
    },
    {
      "cell_type": "markdown",
      "source": [
        "##Step 2: Train/Validation Split (with Stratification & Reproducibility)"
      ],
      "metadata": {
        "id": "jkG36B31qdAf"
      }
    },
    {
      "cell_type": "code",
      "source": [
        "# Step 2.1: Stratified Train/Test Split\n",
        "\n",
        "from sklearn.model_selection import train_test_split\n",
        "\n",
        "# Full feature set\n",
        "X_train_full, X_val_full, y_train, y_val = train_test_split(\n",
        "    X_full, y, test_size=0.2, random_state=42, stratify=y\n",
        ")\n",
        "\n",
        "# Reduced feature set\n",
        "X_train_red, X_val_red, _, _ = train_test_split(\n",
        "    X_reduced, y, test_size=0.2, random_state=42, stratify=y\n",
        ")\n",
        "\n",
        "print(\"X_train_full shape:\", X_train_full.shape)\n",
        "print(\"X_val_full shape:\", X_val_full.shape)\n",
        "print(\"Class distribution in y_train:\\n\", y_train.value_counts(normalize=True))\n",
        "print(\"Class distribution in y_val:\\n\", y_val.value_counts(normalize=True))\n"
      ],
      "metadata": {
        "colab": {
          "base_uri": "https://localhost:8080/"
        },
        "id": "bHfh_P0upi3J",
        "outputId": "6e710bcd-e6d5-4a71-b35c-eaab0ee1e23e"
      },
      "execution_count": 4,
      "outputs": [
        {
          "output_type": "stream",
          "name": "stdout",
          "text": [
            "X_train_full shape: (4328, 28)\n",
            "X_val_full shape: (1082, 28)\n",
            "Class distribution in y_train:\n",
            " PotentialFraud\n",
            "0    0.906423\n",
            "1    0.093577\n",
            "Name: proportion, dtype: float64\n",
            "Class distribution in y_val:\n",
            " PotentialFraud\n",
            "0    0.906654\n",
            "1    0.093346\n",
            "Name: proportion, dtype: float64\n"
          ]
        }
      ]
    },
    {
      "cell_type": "code",
      "source": [
        "# Step 2.2: Convert to Spark DataFrames for Spark ML\n",
        "\n",
        "# Add label column for Spark (must be float for Spark classifiers)\n",
        "train_full_pd = X_train_full.copy()\n",
        "train_full_pd['label'] = y_train.astype(float).values\n",
        "\n",
        "val_full_pd = X_val_full.copy()\n",
        "val_full_pd['label'] = y_val.astype(float).values\n",
        "\n",
        "# Pandas to Spark\n",
        "train_full_spark = spark.createDataFrame(train_full_pd)\n",
        "val_full_spark = spark.createDataFrame(val_full_pd)\n",
        "\n",
        "print(\"Spark DataFrames ready for modeling.\")\n"
      ],
      "metadata": {
        "colab": {
          "base_uri": "https://localhost:8080/"
        },
        "id": "mVI05UTYqHuY",
        "outputId": "b8d94db0-fe53-448f-95cc-2292c11b69f2"
      },
      "execution_count": 5,
      "outputs": [
        {
          "output_type": "stream",
          "name": "stdout",
          "text": [
            "Spark DataFrames ready for modeling.\n"
          ]
        }
      ]
    },
    {
      "cell_type": "code",
      "source": [
        "# Pandas: check types and nulls\n",
        "print(X_train_full.dtypes)\n",
        "print(\"Any nulls in X_train_full?\", X_train_full.isnull().sum().sum())\n",
        "\n",
        "# If you see any 'object' types or nulls, fix before conversion\n"
      ],
      "metadata": {
        "colab": {
          "base_uri": "https://localhost:8080/"
        },
        "id": "MCp4acvCr_Ed",
        "outputId": "c25f28bd-ec2f-43db-becf-524002db9d10"
      },
      "execution_count": 8,
      "outputs": [
        {
          "output_type": "stream",
          "name": "stdout",
          "text": [
            "total_claims                 int64\n",
            "inpatient_claims             int64\n",
            "outpatient_claims            int64\n",
            "total_reimb                  int64\n",
            "avg_reimb                  float64\n",
            "median_reimb               float64\n",
            "std_reimb                  float64\n",
            "max_reimb                    int64\n",
            "total_deductible           float64\n",
            "avg_deductible             float64\n",
            "inpt_outpt_ratio           float64\n",
            "claims_per_bene            float64\n",
            "unique_beneficiaries         int64\n",
            "avg_age                    float64\n",
            "pct_deceased               float64\n",
            "pct_male                   float64\n",
            "race_diversity               int64\n",
            "alzheimer_rate             float64\n",
            "heartfail_rate             float64\n",
            "kidney_rate                float64\n",
            "diabetes_rate              float64\n",
            "pct_bene_multiclaim        float64\n",
            "avg_diag_diversity         float64\n",
            "avg_proc_diversity         float64\n",
            "avg_days_between_claims    float64\n",
            "pct_high_value             float64\n",
            "pct_weekend                float64\n",
            "pct_all_diag_filled        float64\n",
            "dtype: object\n",
            "Any nulls in X_train_full? 1386\n"
          ]
        }
      ]
    },
    {
      "cell_type": "code",
      "source": [
        "import pandas as pd\n",
        "\n",
        "#paths\n",
        "DATA_DIR = \"/content/drive/MyDrive/healthcarefraud_detection/streamlit_app/data/\"\n",
        "\n",
        "# Save features\n",
        "pd.DataFrame(X_train_full).to_parquet(DATA_DIR + \"X_train_full.parquet\")\n",
        "pd.DataFrame(X_val_full).to_parquet(DATA_DIR + \"X_val_full.parquet\")\n",
        "\n",
        "# Save labels\n",
        "pd.DataFrame(y_train).to_csv(DATA_DIR + \"y_train.csv\", index=False)\n",
        "pd.DataFrame(y_val).to_csv(DATA_DIR + \"y_val.csv\", index=False)\n"
      ],
      "metadata": {
        "id": "HV8rn-KBSypS"
      },
      "execution_count": 72,
      "outputs": []
    },
    {
      "cell_type": "markdown",
      "source": [
        "##Step 3: Logistic Regression (Spark ML)"
      ],
      "metadata": {
        "id": "A57Wi3zaql8r"
      }
    },
    {
      "cell_type": "code",
      "source": [
        "from pyspark.ml.feature import VectorAssembler, StandardScaler\n",
        "from pyspark.ml.classification import LogisticRegression\n",
        "from pyspark.ml import Pipeline\n",
        "from pyspark.ml.evaluation import BinaryClassificationEvaluator\n",
        "import mlflow\n",
        "import mlflow.spark\n"
      ],
      "metadata": {
        "id": "5cZPEbQysQBI"
      },
      "execution_count": 9,
      "outputs": []
    },
    {
      "cell_type": "code",
      "source": [
        "X_train_full_filled = X_train_full.fillna(0).astype(float)\n",
        "X_val_full_filled = X_val_full.fillna(0).astype(float)"
      ],
      "metadata": {
        "id": "dvT87gcVqm86"
      },
      "execution_count": 10,
      "outputs": []
    },
    {
      "source": [
        "# 2. Add label column (float for Spark)\n",
        "train_full_pd = X_train_full_filled.copy()\n",
        "train_full_pd['label'] = y_train.astype(float).values\n",
        "val_full_pd = X_val_full_filled.copy()\n",
        "val_full_pd['label'] = y_val.astype(float).values"
      ],
      "cell_type": "code",
      "metadata": {
        "id": "OVdeDhnrtS0u"
      },
      "execution_count": 11,
      "outputs": []
    },
    {
      "cell_type": "code",
      "source": [
        "# 3. Reset index for Spark compatibility\n",
        "train_full_pd = train_full_pd.reset_index(drop=True)\n",
        "val_full_pd = val_full_pd.reset_index(drop=True)"
      ],
      "metadata": {
        "id": "0Qq8zWCIudKP"
      },
      "execution_count": 12,
      "outputs": []
    },
    {
      "cell_type": "code",
      "source": [
        "# 4. Create Spark DataFrames\n",
        "train_full_spark = spark.createDataFrame(train_full_pd)\n",
        "val_full_spark = spark.createDataFrame(val_full_pd)"
      ],
      "metadata": {
        "id": "Nk8EzmP1unqg"
      },
      "execution_count": 13,
      "outputs": []
    },
    {
      "cell_type": "code",
      "source": [
        "# 5. Define the feature columns\n",
        "feature_cols = X_train_full_filled.columns.tolist()  # Should be 28"
      ],
      "metadata": {
        "id": "VGkAYZ9Owq22"
      },
      "execution_count": 14,
      "outputs": []
    },
    {
      "cell_type": "code",
      "source": [
        "# 6. Define the Spark ML pipeline\n",
        "assembler = VectorAssembler(inputCols=feature_cols, outputCol=\"features_unscaled\")\n",
        "scaler = StandardScaler(inputCol=\"features_unscaled\", outputCol=\"features\", withMean=True, withStd=True)\n",
        "lr = LogisticRegression(featuresCol=\"features\", labelCol=\"label\", maxIter=50)\n",
        "pipeline = Pipeline(stages=[assembler, scaler, lr])\n"
      ],
      "metadata": {
        "id": "ATDe_WFrwtKf"
      },
      "execution_count": 15,
      "outputs": []
    },
    {
      "cell_type": "code",
      "source": [
        "# 7. Fit and evaluate, tracking with MLflow\n",
        "with mlflow.start_run(run_name=\"Spark Logistic Regression\"):\n",
        "    model = pipeline.fit(train_full_spark)\n",
        "    mlflow.spark.log_model(model, \"spark-logistic-regression\")\n",
        "\n",
        "    predictions = model.transform(val_full_spark)\n",
        "    evaluator = BinaryClassificationEvaluator(rawPredictionCol=\"rawPrediction\", labelCol=\"label\", metricName=\"areaUnderROC\")\n",
        "    auc = evaluator.evaluate(predictions)\n",
        "    mlflow.log_metric(\"val_auc\", auc)\n",
        "    print(\"Validation AUC-ROC:\", auc)"
      ],
      "metadata": {
        "colab": {
          "base_uri": "https://localhost:8080/"
        },
        "id": "sk5fy2nJwvF_",
        "outputId": "7bac1f71-ccb4-4f42-f40a-f825f2880692"
      },
      "execution_count": 16,
      "outputs": [
        {
          "output_type": "stream",
          "name": "stderr",
          "text": [
            "\u001b[31m2025/06/12 21:52:01 WARNING mlflow.models.model: Model logged without a signature and input example. Please set `input_example` parameter when logging the model to auto infer the model signature.\u001b[0m\n"
          ]
        },
        {
          "output_type": "stream",
          "name": "stdout",
          "text": [
            "Validation AUC-ROC: 0.9548248402821939\n"
          ]
        }
      ]
    },
    {
      "cell_type": "code",
      "source": [
        "# For ROC/metrics in pandas/sklearn\n",
        "preds_pd = predictions.select(\"label\", \"probability\", \"prediction\").toPandas()\n",
        "preds_pd['prob_1'] = preds_pd['probability'].apply(lambda v: float(v[1]))\n",
        "\n",
        "# ROC curve\n",
        "from sklearn.metrics import roc_curve, confusion_matrix, classification_report\n",
        "fpr, tpr, _ = roc_curve(preds_pd['label'], preds_pd['prob_1'])\n",
        "import matplotlib.pyplot as plt\n",
        "plt.figure(figsize=(6,5))\n",
        "plt.plot(fpr, tpr, label=f\"AUC = {auc:.3f}\")\n",
        "plt.plot([0,1],[0,1], 'k--')\n",
        "plt.xlabel('False Positive Rate')\n",
        "plt.ylabel('True Positive Rate')\n",
        "plt.title('Spark Logistic Regression: ROC Curve')\n",
        "plt.legend()\n",
        "plt.grid()\n",
        "plt.savefig('/content/drive/MyDrive/healthcarefraud_detection/streamlit_app/data/plots/roc_lr.png')\n",
        "plt.show()"
      ],
      "metadata": {
        "colab": {
          "base_uri": "https://localhost:8080/",
          "height": 487
        },
        "id": "LRdWlLg6wxNJ",
        "outputId": "d8f3c6a6-69cf-43a8-e845-a42c7f1260af"
      },
      "execution_count": 17,
      "outputs": [
        {
          "output_type": "display_data",
          "data": {
            "text/plain": [
              "<Figure size 600x500 with 1 Axes>"
            ],
            "image/png": "[encoded data removed]"
          },
          "metadata": {}
        }
      ]
    },
    {
      "cell_type": "code",
      "source": [
        "# Confusion matrix & classification report\n",
        "cm = confusion_matrix(preds_pd['label'], preds_pd['prediction'])\n",
        "print(\"Confusion Matrix:\\n\", cm)\n",
        "print(\"Classification Report:\\n\", classification_report(preds_pd['label'], preds_pd['prediction']))\n",
        "import seaborn as sns\n",
        "\n",
        "fig, ax = plt.subplots()\n",
        "sns.heatmap(cm, annot=True, fmt='d', cmap='Blues', ax=ax)\n",
        "plt.xlabel('Predicted')\n",
        "plt.ylabel('Actual')\n",
        "plt.title('Logistic regression Confusion Matrix')\n",
        "plt.savefig('/content/drive/MyDrive/healthcarefraud_detection/streamlit_app/data/plots/conf_matrix_lr.png')\n",
        "plt.close()\n",
        "\n"
      ],
      "metadata": {
        "colab": {
          "base_uri": "https://localhost:8080/"
        },
        "id": "YVSGuIDLw8EY",
        "outputId": "304defe3-3226-4150-90c2-cca53009cd9e"
      },
      "execution_count": 18,
      "outputs": [
        {
          "output_type": "stream",
          "name": "stdout",
          "text": [
            "Confusion Matrix:\n",
            " [[966  15]\n",
            " [ 45  56]]\n",
            "Classification Report:\n",
            "               precision    recall  f1-score   support\n",
            "\n",
            "         0.0       0.96      0.98      0.97       981\n",
            "         1.0       0.79      0.55      0.65       101\n",
            "\n",
            "    accuracy                           0.94      1082\n",
            "   macro avg       0.87      0.77      0.81      1082\n",
            "weighted avg       0.94      0.94      0.94      1082\n",
            "\n"
          ]
        }
      ]
    },
    {
      "cell_type": "code",
      "source": [
        "import json\n",
        "\n",
        "#metrics dict\n",
        "metrics = {\n",
        "    \"model\": \"Random Forest\",\n",
        "    \"auc\": 0.955,\n",
        "    \"precision_legit\": 0.96,\n",
        "    \"recall_fraud\": 0.55,\n",
        "    \"accuracy\": 0.94\n",
        "}\n",
        "\n",
        "with open('/content/drive/MyDrive/healthcarefraud_detection/streamlit_app/data/metrics/lr_metrics.json', 'w') as f:\n",
        "    json.dump(metrics, f, indent=2)\n"
      ],
      "metadata": {
        "id": "UyibHmepIrCa"
      },
      "execution_count": 20,
      "outputs": []
    },
    {
      "cell_type": "markdown",
      "source": [
        "# Logistic Regression Modeling Results (Spark ML)\n",
        "\n",
        "## Overview\n",
        "\n",
        "This section documents the results of applying a **Spark ML Logistic Regression** model to the engineered provider feature set for healthcare fraud detection.\n",
        "\n",
        "- **Data:** Provider-level features (28 engineered features), imputed and standardized\n",
        "- **Train/Validation Split:** 80/20, stratified by fraud class (9.4% fraud cases)\n",
        "- **Imbalance Handling:** No undersampling; class imbalance addressed via class weighting (LogisticRegression handles internally in Spark)\n",
        "- **Experiment Tracking:** All results and artifacts logged via MLflow\n",
        "\n",
        "---\n",
        "\n",
        "## Model Performance\n",
        "\n",
        "- **Validation AUC-ROC:** **0.955**\n",
        "- **Confusion Matrix:**\n",
        "\n",
        "  |              | Predicted 0 | Predicted 1 |\n",
        "  |--------------|-------------|-------------|\n",
        "  | **Actual 0** |     966     |     15      |\n",
        "  | **Actual 1** |     45      |     56      |\n",
        "\n",
        "- **Classification Report:**\n",
        "\n",
        "  | Class | Precision | Recall | F1-score | Support |\n",
        "  |-------|-----------|--------|----------|---------|\n",
        "  |  0    |   0.96    |  0.98  |   0.97   |   981   |\n",
        "  |  1    |   0.79    |  0.55  |   0.65   |   101   |\n",
        "\n",
        "  - **Accuracy:** 0.94\n",
        "  - **Macro F1:** 0.81\n",
        "\n",
        "- **ROC Curve:**  \n",
        "  ![ROC Curve](\"/content/drive/MyDrive/healthcarefraud_detection/streamlit_app/data/plots/roc_lr.png\")\n",
        "\n",
        "---\n",
        "\n",
        "## Interpretation & Insights\n",
        "\n",
        "- **AUC-ROC of 0.955** shows strong discriminatory power, indicating the model is very effective at distinguishing between fraudulent and non-fraudulent providers.\n",
        "- **High precision for fraud class (1):** When the model flags fraud, it is correct 79% of the time.\n",
        "- **Recall for fraud class (1) is 55%:** There is room for improvement in capturing all actual fraud cases, which is typical for highly imbalanced datasets.\n",
        "- **Very low false positive rate:** Only 15 out of 981 non-fraud cases are misclassified.\n",
        "- **Business impact:** The model catches over half of fraud cases while maintaining very low false alarms—an excellent baseline for further improvements.\n",
        "\n",
        "---\n",
        "\n",
        "## Next Steps\n",
        "\n",
        "- **Model Benchmarking:**  \n",
        "  Compare these results to Decision Tree, Random Forest, and (optionally) XGBoost models.\n",
        "- **Hyperparameter Tuning:**  \n",
        "  For tree-based models to optimize for recall/precision as business priorities dictate.\n",
        "- **Further Analysis:**  \n",
        "  Investigate false negatives (missed fraud) and consider cost-sensitive adjustments or ensemble approaches.\n",
        "- **Interpretability:**  \n",
        "  Use SHAP or feature importance (where supported) to understand key fraud drivers.\n",
        "\n",
        "---\n",
        "\n",
        "## Reproducibility\n",
        "\n",
        "- **Data, pipeline, and model code are fully reproducible and tracked in MLflow.**\n",
        "- **All plots and metrics are saved for auditability.**\n",
        "\n",
        "---\n",
        "\n",
        "> *This notebook and documentation meet best practices for ML production, audit trails, and team hand-off.*\n",
        "\n"
      ],
      "metadata": {
        "id": "ZKK-pAiWxvGX"
      }
    },
    {
      "cell_type": "markdown",
      "source": [
        "##Step 4: Decision Tree Classifier (Spark ML)"
      ],
      "metadata": {
        "id": "9JLMQU7wyK_I"
      }
    },
    {
      "cell_type": "code",
      "source": [
        "from pyspark.ml.classification import DecisionTreeClassifier\n"
      ],
      "metadata": {
        "id": "rt226AgDxd0q"
      },
      "execution_count": 58,
      "outputs": []
    },
    {
      "cell_type": "code",
      "source": [
        "# 1. Define feature columns\n",
        "feature_cols = X_train_full_filled.columns.tolist()\n"
      ],
      "metadata": {
        "id": "jZqbEr7SyP5E"
      },
      "execution_count": 59,
      "outputs": []
    },
    {
      "cell_type": "code",
      "source": [
        "# 2. Pipeline: VectorAssembler only (no scaler needed)\n",
        "assembler = VectorAssembler(inputCols=feature_cols, outputCol=\"features\")\n",
        "dt = DecisionTreeClassifier(featuresCol=\"features\", labelCol=\"label\", maxDepth=10, seed=42)  # you can tune maxDepth"
      ],
      "metadata": {
        "id": "SFQGomZGyRT0"
      },
      "execution_count": 60,
      "outputs": []
    },
    {
      "cell_type": "code",
      "source": [
        "from pyspark.ml import Pipeline\n",
        "pipeline = Pipeline(stages=[assembler, dt])"
      ],
      "metadata": {
        "id": "7LBQ5xAbyTn7"
      },
      "execution_count": 61,
      "outputs": []
    },
    {
      "cell_type": "code",
      "source": [
        "# 3. Fit and evaluate with MLflow\n",
        "with mlflow.start_run(run_name=\"Spark Decision Tree\"):\n",
        "    model = pipeline.fit(train_full_spark)\n",
        "    mlflow.spark.log_model(model, \"spark-decision-tree\")\n"
      ],
      "metadata": {
        "colab": {
          "base_uri": "https://localhost:8080/"
        },
        "id": "3WcZLupUyWiU",
        "outputId": "8458f899-b6e4-47fa-c428-373e56b2301e"
      },
      "execution_count": 62,
      "outputs": [
        {
          "output_type": "stream",
          "name": "stderr",
          "text": [
            "\u001b[31m2025/06/12 22:30:02 WARNING mlflow.models.model: Model logged without a signature and input example. Please set `input_example` parameter when logging the model to auto infer the model signature.\u001b[0m\n"
          ]
        }
      ]
    },
    {
      "cell_type": "code",
      "source": [
        "predictions = model.transform(val_full_spark)\n",
        "evaluator = BinaryClassificationEvaluator(rawPredictionCol=\"rawPrediction\", labelCol=\"label\", metricName=\"areaUnderROC\")\n",
        "auc = evaluator.evaluate(predictions)\n",
        "mlflow.log_metric(\"val_auc\", auc)\n",
        "print(\"Validation AUC-ROC:\", auc)"
      ],
      "metadata": {
        "colab": {
          "base_uri": "https://localhost:8080/"
        },
        "id": "g2i9R0i1yYUb",
        "outputId": "524ce2ee-7985-43b7-f34b-ff090ef834cf"
      },
      "execution_count": 63,
      "outputs": [
        {
          "output_type": "stream",
          "name": "stdout",
          "text": [
            "Validation AUC-ROC: 0.6541819319546633\n"
          ]
        }
      ]
    },
    {
      "cell_type": "code",
      "source": [
        "# Pandas/Sklearn metrics\n",
        "preds_pd = predictions.select(\"label\", \"probability\", \"prediction\").toPandas()\n",
        "preds_pd['prob_1'] = preds_pd['probability'].apply(lambda v: float(v[1]))"
      ],
      "metadata": {
        "id": "LpsNJe-kyjBY"
      },
      "execution_count": 64,
      "outputs": []
    },
    {
      "cell_type": "code",
      "source": [
        "    # ROC curve\n",
        "    from sklearn.metrics import roc_curve, confusion_matrix, classification_report\n",
        "    fpr, tpr, _ = roc_curve(preds_pd['label'], preds_pd['prob_1'])\n",
        "    import matplotlib.pyplot as plt\n",
        "    plt.figure(figsize=(6,5))\n",
        "    plt.plot(fpr, tpr, label=f\"AUC = {auc:.3f}\")\n",
        "    plt.plot([0,1],[0,1], 'k--')\n",
        "    plt.xlabel('False Positive Rate')\n",
        "    plt.ylabel('True Positive Rate')\n",
        "    plt.title('Spark Decision Tree: ROC Curve')\n",
        "    plt.legend()\n",
        "    plt.grid()\n",
        "    plt.savefig('/content/drive/MyDrive/healthcarefraud_detection/streamlit_app/data/plots/roc_dt.png')\n",
        "    plt.show()"
      ],
      "metadata": {
        "colab": {
          "base_uri": "https://localhost:8080/",
          "height": 487
        },
        "id": "3QIkq5iRylpS",
        "outputId": "f39c9522-7dd7-4517-d5ea-3ed9d6a291d0"
      },
      "execution_count": 65,
      "outputs": [
        {
          "output_type": "display_data",
          "data": {
            "text/plain": [
              "<Figure size 600x500 with 1 Axes>"
            ],
            "image/png": "[encoded data removed]"
          },
          "metadata": {}
        }
      ]
    },
    {
      "cell_type": "code",
      "source": [
        "    # Confusion matrix & classification report\n",
        "    cm = confusion_matrix(preds_pd['label'], preds_pd['prediction'])\n",
        "    print(\"Confusion Matrix:\\n\", cm)\n",
        "    print(\"Classification Report:\\n\", classification_report(preds_pd['label'], preds_pd['prediction']))\n",
        "    import seaborn as sns\n",
        "import matplotlib.pyplot as plt\n",
        "\n",
        "fig, ax = plt.subplots()\n",
        "sns.heatmap(cm, annot=True, fmt='d', cmap='Oranges', ax=ax)\n",
        "plt.xlabel('Predicted')\n",
        "plt.ylabel('Actual')\n",
        "plt.title('Decision Tree Confusion Matrix')\n",
        "plt.savefig('/content/drive/MyDrive/healthcarefraud_detection/streamlit_app/data/plots/conf_matrix_decision_tree.png')\n",
        "plt.show()\n",
        "\n"
      ],
      "metadata": {
        "colab": {
          "base_uri": "https://localhost:8080/",
          "height": 698
        },
        "id": "GbI5A6nHypv_",
        "outputId": "bbcfe4c0-1c4e-477e-9a0f-e84ced178003"
      },
      "execution_count": 66,
      "outputs": [
        {
          "output_type": "stream",
          "name": "stdout",
          "text": [
            "Confusion Matrix:\n",
            " [[920  61]\n",
            " [ 46  55]]\n",
            "Classification Report:\n",
            "               precision    recall  f1-score   support\n",
            "\n",
            "         0.0       0.95      0.94      0.95       981\n",
            "         1.0       0.47      0.54      0.51       101\n",
            "\n",
            "    accuracy                           0.90      1082\n",
            "   macro avg       0.71      0.74      0.73      1082\n",
            "weighted avg       0.91      0.90      0.90      1082\n",
            "\n"
          ]
        },
        {
          "output_type": "display_data",
          "data": {
            "text/plain": [
              "<Figure size 640x480 with 2 Axes>"
            ],
            "image/png": "[encoded data removed]"
          },
          "metadata": {}
        }
      ]
    },
    {
      "cell_type": "code",
      "source": [
        "import json\n",
        "\n",
        "dt_metrics = {\n",
        "    \"model\": \"Decision Tree\",\n",
        "    \"auc\": float(0.654),  # Make sure auc is a float\n",
        "    \"precision_legit\": float(0.95),   # Get these from your classification_report\n",
        "    \"precision_fraud\": float(0.47),\n",
        "    \"recall_legit\": float(0.94),\n",
        "    \"recall_fraud\": float(0.54),\n",
        "    \"f1_legit\": float(0.95),\n",
        "    \"f1_fraud\": float(0.51)\n",
        "}\n",
        "with open('/content/drive/MyDrive/healthcarefraud_detection/streamlit_app/data/metrics/dt_metrics.json', 'w') as f:\n",
        "    json.dump(dt_metrics, f, indent=2)\n"
      ],
      "metadata": {
        "id": "0ALAloYTLNxx"
      },
      "execution_count": 67,
      "outputs": []
    },
    {
      "cell_type": "markdown",
      "source": [
        "# Decision Tree Modeling Results (Spark ML)\n",
        "\n",
        "## Overview\n",
        "\n",
        "This section documents the results of a **Spark ML Decision Tree Classifier** applied to the provider-level fraud detection dataset.\n",
        "\n",
        "- **Data:** Same features as Logistic Regression (28 engineered provider features)\n",
        "- **Train/Validation Split:** 80/20, stratified\n",
        "- **Preprocessing:** Only vectorization (no scaling needed for tree models)\n",
        "- **Imbalance Handling:** No explicit weighting (baseline settings)\n",
        "- **Experiment Tracking:** MLflow run and artifacts (ROC plot for base model only)\n",
        "\n",
        "---\n",
        "\n",
        "## Model Performance\n",
        "\n",
        "- **Validation AUC-ROC:** **0.654**\n",
        "- **Confusion Matrix:**\n",
        "\n",
        "  |              | Predicted 0 | Predicted 1 |\n",
        "  |--------------|-------------|-------------|\n",
        "  | **Actual 0** |     920     |     61      |\n",
        "  | **Actual 1** |     46      |     55      |\n",
        "\n",
        "- **Classification Report:**\n",
        "\n",
        "  | Class | Precision | Recall | F1-score | Support |\n",
        "  |-------|-----------|--------|----------|---------|\n",
        "  |  0    |   0.95    |  0.94  |   0.95   |   981   |\n",
        "  |  1    |   0.47    |  0.54  |   0.51   |   101   |\n",
        "\n",
        "  - **Accuracy:** 0.90\n",
        "  - **Macro F1:** 0.73\n",
        "\n",
        "- **ROC Curve:**  \n",
        "  (Saved for base model. Refer to `/content/spark_dt_roc.png` in MLflow or your Colab files.)\n",
        "\n",
        "---\n",
        "\n",
        "## Interpretation & Insights\n",
        "\n",
        "- **AUC-ROC (0.65) is much lower** than Logistic Regression, indicating the Decision Tree is less effective on this feature set.\n",
        "- **Recall for fraud class (1):** 54%—the tree catches slightly more fraud cases than Logistic Regression, but with lower precision.\n",
        "- **Business impact:** Standalone Decision Tree is not competitive with Logistic Regression; however, it may add value as part of an ensemble (Random Forest, etc.).\n",
        "\n",
        "---\n",
        "\n",
        "## Next Steps\n",
        "\n",
        "- **Proceed to Random Forest:**  \n",
        "  Use an ensemble approach to improve performance and stability.\n",
        "- **Hyperparameter Tuning:**  \n",
        "  For Random Forest, tune `maxDepth`, `numTrees`, etc. for best results.\n",
        "- **Compare all models:**  \n",
        "  Summarize key metrics and ROC plots for base models.\n",
        "\n",
        "---\n",
        "\n",
        "> *For production or reporting, only plots/metrics for final/base models are saved and logged. All runs are tracked with MLflow for reproducibility.*\n"
      ],
      "metadata": {
        "id": "3zW8faNbzyDL"
      }
    },
    {
      "cell_type": "markdown",
      "source": [
        "##Step 5: Random Forest Classifier (Spark ML)\n"
      ],
      "metadata": {
        "id": "VPkBpx1P0gxZ"
      }
    },
    {
      "cell_type": "code",
      "source": [
        "from pyspark.ml.classification import RandomForestClassifier\n"
      ],
      "metadata": {
        "id": "nTuDNNRMys0p"
      },
      "execution_count": 37,
      "outputs": []
    },
    {
      "cell_type": "code",
      "source": [
        "# 1. Define feature columns (already float, imputed, and indexed)\n",
        "feature_cols = X_train_full_filled.columns.tolist()"
      ],
      "metadata": {
        "id": "_WF7Fz050jeO"
      },
      "execution_count": 38,
      "outputs": []
    },
    {
      "cell_type": "code",
      "source": [
        "# 2. Pipeline: VectorAssembler only (no scaler needed for tree models)\n",
        "assembler = VectorAssembler(inputCols=feature_cols, outputCol=\"features\")\n",
        "rf = RandomForestClassifier(featuresCol=\"features\", labelCol=\"label\",\n",
        "                           numTrees=100, maxDepth=10, seed=42)  # You can tune numTrees/maxDepth later\n"
      ],
      "metadata": {
        "id": "nRHzfzaM0lFy"
      },
      "execution_count": 39,
      "outputs": []
    },
    {
      "cell_type": "code",
      "source": [
        "from pyspark.ml import Pipeline\n",
        "pipeline = Pipeline(stages=[assembler, rf])"
      ],
      "metadata": {
        "id": "fzz6Dti-0m7-"
      },
      "execution_count": 40,
      "outputs": []
    },
    {
      "cell_type": "code",
      "source": [
        "mlflow.end_run()"
      ],
      "metadata": {
        "id": "WuZjhMxY0wqL"
      },
      "execution_count": 41,
      "outputs": []
    },
    {
      "cell_type": "code",
      "source": [
        "# 3. Fit and evaluate with MLflow\n",
        "with mlflow.start_run(run_name=\"Spark Random Forest\"):\n",
        "    model = pipeline.fit(train_full_spark)\n",
        "    mlflow.spark.log_model(model, \"spark-random-forest\")"
      ],
      "metadata": {
        "colab": {
          "base_uri": "https://localhost:8080/"
        },
        "id": "Ay8pjmEr0oja",
        "outputId": "c7a0d393-2d38-4fc9-86f6-06d043aea385"
      },
      "execution_count": 88,
      "outputs": [
        {
          "output_type": "stream",
          "name": "stderr",
          "text": [
            "\u001b[31m2025/06/11 02:31:24 WARNING mlflow.models.model: Model logged without a signature and input example. Please set `input_example` parameter when logging the model to auto infer the model signature.\u001b[0m\n"
          ]
        }
      ]
    },
    {
      "cell_type": "code",
      "source": [
        "    predictions = model.transform(val_full_spark)\n",
        "    evaluator = BinaryClassificationEvaluator(rawPredictionCol=\"rawPrediction\", labelCol=\"label\", metricName=\"areaUnderROC\")\n",
        "    auc = evaluator.evaluate(predictions)\n",
        "    mlflow.log_metric(\"val_auc\", auc)\n",
        "    print(\"Validation AUC-ROC:\", auc)"
      ],
      "metadata": {
        "colab": {
          "base_uri": "https://localhost:8080/"
        },
        "id": "rj3FMcKn0qRg",
        "outputId": "683a280c-697d-4e1f-9f3a-19c4026762b5"
      },
      "execution_count": 89,
      "outputs": [
        {
          "output_type": "stream",
          "name": "stdout",
          "text": [
            "Validation AUC-ROC: 0.9557230952453047\n"
          ]
        }
      ]
    },
    {
      "cell_type": "code",
      "source": [
        "\n",
        "    # Pandas/Sklearn metrics\n",
        "    preds_pd = predictions.select(\"label\", \"probability\", \"prediction\").toPandas()\n",
        "    preds_pd['prob_1'] = preds_pd['probability'].apply(lambda v: float(v[1]))\n",
        "\n"
      ],
      "metadata": {
        "id": "lmuWkebq1AB4"
      },
      "execution_count": 90,
      "outputs": []
    },
    {
      "cell_type": "code",
      "source": [
        "    # ROC curve\n",
        "    from sklearn.metrics import roc_curve, confusion_matrix, classification_report\n",
        "    fpr, tpr, _ = roc_curve(preds_pd['label'], preds_pd['prob_1'])\n",
        "    import matplotlib.pyplot as plt\n",
        "    plt.figure(figsize=(6,5))\n",
        "    plt.plot(fpr, tpr, label=f\"AUC = {auc:.3f}\")\n",
        "    plt.plot([0,1],[0,1], 'k--')\n",
        "    plt.xlabel('False Positive Rate')\n",
        "    plt.ylabel('True Positive Rate')\n",
        "    plt.title('Spark Random Forest: ROC Curve')\n",
        "    plt.legend()\n",
        "    plt.grid()"
      ],
      "metadata": {
        "colab": {
          "base_uri": "https://localhost:8080/",
          "height": 487
        },
        "id": "URvWxxbd1CRf",
        "outputId": "5c52917f-4fb3-4ee1-d1fb-cfc5263c9bf5"
      },
      "execution_count": 91,
      "outputs": [
        {
          "output_type": "display_data",
          "data": {
            "text/plain": [
              "<Figure size 600x500 with 1 Axes>"
            ],
            "image/png": "[encoded data removed]"
          },
          "metadata": {}
        }
      ]
    },
    {
      "cell_type": "code",
      "source": [
        "    # Save and log ROC only for base model if desired\n",
        "    roc_path = \"/content/drive/MyDrive/healthcarefraud_detection/data/plots/spark_rf_roc.png\"\n",
        "    plt.savefig(roc_path)\n",
        "    mlflow.log_artifact(roc_path)\n",
        "    plt.show()\n"
      ],
      "metadata": {
        "colab": {
          "base_uri": "https://localhost:8080/",
          "height": 34
        },
        "id": "JGdav1HL1EtC",
        "outputId": "47a24c20-7da2-4c5c-da39-72619753be02"
      },
      "execution_count": 92,
      "outputs": [
        {
          "output_type": "display_data",
          "data": {
            "text/plain": [
              "<Figure size 640x480 with 0 Axes>"
            ]
          },
          "metadata": {}
        }
      ]
    },
    {
      "cell_type": "code",
      "source": [
        "\n",
        "    # Confusion matrix & classification report\n",
        "    cm = confusion_matrix(preds_pd['label'], preds_pd['prediction'])\n",
        "    print(\"Confusion Matrix:\\n\", cm)\n",
        "    print(\"Classification Report:\\n\", classification_report(preds_pd['label'], preds_pd['prediction']))\n"
      ],
      "metadata": {
        "colab": {
          "base_uri": "https://localhost:8080/"
        },
        "id": "OXwdG-FP1Tuy",
        "outputId": "2383ae6b-5834-483a-8bfb-e83d662e9a7e"
      },
      "execution_count": 93,
      "outputs": [
        {
          "output_type": "stream",
          "name": "stdout",
          "text": [
            "Confusion Matrix:\n",
            " [[963  18]\n",
            " [ 43  58]]\n",
            "Classification Report:\n",
            "               precision    recall  f1-score   support\n",
            "\n",
            "         0.0       0.96      0.98      0.97       981\n",
            "         1.0       0.76      0.57      0.66       101\n",
            "\n",
            "    accuracy                           0.94      1082\n",
            "   macro avg       0.86      0.78      0.81      1082\n",
            "weighted avg       0.94      0.94      0.94      1082\n",
            "\n"
          ]
        }
      ]
    },
    {
      "cell_type": "code",
      "source": [
        "from pyspark.ml.tuning import ParamGridBuilder, CrossValidator\n",
        "\n",
        "# 1. Define pipeline as before\n",
        "assembler = VectorAssembler(inputCols=feature_cols, outputCol=\"features\")\n",
        "rf = RandomForestClassifier(featuresCol=\"features\", labelCol=\"label\", seed=42)\n",
        "pipeline = Pipeline(stages=[assembler, rf])\n",
        "\n",
        "# 2. Set up grid\n",
        "paramGrid = (ParamGridBuilder()\n",
        "             .addGrid(rf.numTrees, [50, 100, 200])\n",
        "             .addGrid(rf.maxDepth, [5, 10, 15])\n",
        "             .build())\n",
        "\n",
        "# 3. Cross-validator setup (3-fold is common for speed)\n",
        "evaluator = BinaryClassificationEvaluator(rawPredictionCol=\"rawPrediction\", labelCol=\"label\", metricName=\"areaUnderROC\")\n",
        "cv = CrossValidator(estimator=pipeline,\n",
        "                    estimatorParamMaps=paramGrid,\n",
        "                    evaluator=evaluator,\n",
        "                    numFolds=3,\n",
        "                    parallelism=2)  # set parallelism to >1 for speed if Colab allows\n",
        "\n",
        "# 4. Fit and log with MLflow\n",
        "with mlflow.start_run(run_name=\"Spark Random Forest CV\"):\n",
        "    cvModel = cv.fit(train_full_spark)\n",
        "    mlflow.spark.log_model(cvModel.bestModel, \"spark-random-forest-cv\")\n",
        "\n",
        "    predictions = cvModel.bestModel.transform(val_full_spark)\n",
        "    auc = evaluator.evaluate(predictions)\n",
        "    mlflow.log_metric(\"val_auc\", auc)\n",
        "    print(\"Validation AUC-ROC:\", auc)\n",
        "\n",
        "    # Collect and display ROC, confusion matrix, etc. as before\n",
        "    preds_pd = predictions.select(\"label\", \"probability\", \"prediction\").toPandas()\n",
        "    preds_pd['prob_1'] = preds_pd['probability'].apply(lambda v: float(v[1]))\n",
        "\n",
        "    from sklearn.metrics import roc_curve, confusion_matrix, classification_report\n",
        "    fpr, tpr, _ = roc_curve(preds_pd['label'], preds_pd['prob_1'])\n",
        "    import matplotlib.pyplot as plt\n",
        "    plt.figure(figsize=(6,5))\n",
        "    plt.plot(fpr, tpr, label=f\"AUC = {auc:.3f}\")\n",
        "    plt.plot([0,1],[0,1], 'k--')\n",
        "    plt.xlabel('False Positive Rate')\n",
        "    plt.ylabel('True Positive Rate')\n",
        "    plt.title('Spark Random Forest (Grid Search): ROC Curve')\n",
        "    plt.legend()\n",
        "    plt.grid()\n",
        "    roc_path = \"/content/drive/MyDrive/healthcarefraud_detection/data/plots/spark_rf_cv_roc.png\"\n",
        "    plt.savefig(roc_path)\n",
        "    mlflow.log_artifact(roc_path)\n",
        "    plt.savefig('/content/drive/MyDrive/healthcarefraud_detection/streamlit_app/data/plots/roc_rf_gridsearch.png')\n",
        "    plt.show()\n",
        "    import seaborn as sns\n",
        "    import matplotlib.pyplot as plt\n",
        "\n",
        "    fig, ax = plt.subplots()\n",
        "    sns.heatmap(cm, annot=True, fmt='d', cmap='Blues', ax=ax)\n",
        "    plt.xlabel('Predicted')\n",
        "    plt.ylabel('Actual')\n",
        "    plt.title('Random Forest (Grid Search) Confusion Matrix')\n",
        "    plt.savefig('/content/drive/MyDrive/healthcarefraud_detection/streamlit_app/data/plots/conf_matrix_rf_gridsearch.png')\n",
        "    plt.close()\n",
        "\n",
        "\n",
        "    cm = confusion_matrix(preds_pd['label'], preds_pd['prediction'])\n",
        "    print(\"Confusion Matrix:\\n\", cm)\n",
        "    print(\"Classification Report:\\n\", classification_report(preds_pd['label'], preds_pd['prediction']))\n"
      ],
      "metadata": {
        "colab": {
          "base_uri": "https://localhost:8080/",
          "height": 767
        },
        "id": "9jKMUKV32GH_",
        "outputId": "bea0630e-97b3-4c79-ff99-3db077d93464"
      },
      "execution_count": 42,
      "outputs": [
        {
          "output_type": "stream",
          "name": "stderr",
          "text": [
            "\u001b[31m2025/06/12 22:13:06 WARNING mlflow.models.model: Model logged without a signature and input example. Please set `input_example` parameter when logging the model to auto infer the model signature.\u001b[0m\n"
          ]
        },
        {
          "output_type": "stream",
          "name": "stdout",
          "text": [
            "Validation AUC-ROC: 0.9538761215571094\n"
          ]
        },
        {
          "output_type": "display_data",
          "data": {
            "text/plain": [
              "<Figure size 600x500 with 1 Axes>"
            ],
            "image/png": "[encoded data removed]"
          },
          "metadata": {}
        },
        {
          "output_type": "stream",
          "name": "stdout",
          "text": [
            "Confusion Matrix:\n",
            " [[967  14]\n",
            " [ 44  57]]\n",
            "Classification Report:\n",
            "               precision    recall  f1-score   support\n",
            "\n",
            "         0.0       0.96      0.99      0.97       981\n",
            "         1.0       0.80      0.56      0.66       101\n",
            "\n",
            "    accuracy                           0.95      1082\n",
            "   macro avg       0.88      0.78      0.82      1082\n",
            "weighted avg       0.94      0.95      0.94      1082\n",
            "\n"
          ]
        }
      ]
    },
    {
      "cell_type": "code",
      "source": [
        "# Print the best parameters from grid search\n",
        "best_rf_model = cvModel.bestModel.stages[-1]  # Last stage is the RandomForestClassifier\n",
        "\n",
        "print(\"Best numTrees:\", best_rf_model.getNumTrees)\n",
        "print(\"Best maxDepth:\", best_rf_model.getOrDefault('maxDepth'))\n"
      ],
      "metadata": {
        "colab": {
          "base_uri": "https://localhost:8080/"
        },
        "id": "iyFQTSkf1W1l",
        "outputId": "4cb0cc7d-57d4-4d27-e85d-f19cf9886618"
      },
      "execution_count": 45,
      "outputs": [
        {
          "output_type": "stream",
          "name": "stdout",
          "text": [
            "Best numTrees: 100\n",
            "Best maxDepth: 5\n"
          ]
        }
      ]
    },
    {
      "cell_type": "code",
      "source": [
        "import json\n",
        "\n",
        "rf_metrics = {\n",
        "    \"model\": \"Random Forest (Grid Search)\",\n",
        "    \"auc\": float(0.9538),\n",
        "    \"precision_legit\": float(0.96),   # e.g., classification_report output\n",
        "    \"precision_fraud\": float(0.80),\n",
        "    \"recall_legit\": float(0.99),\n",
        "    \"recall_fraud\": float(0.56),\n",
        "    \"f1_legit\": float(0.97),\n",
        "    \"f1_fraud\": float(0.66),\n",
        "    \"best_numTrees\": best_rf_model.getNumTrees,\n",
        "    \"best_maxDepth\": best_rf_model.getOrDefault('maxDepth')\n",
        "}\n",
        "with open('/content/drive/MyDrive/healthcarefraud_detection/streamlit_app/data/metrics/rf_gridsearch_metrics.json', 'w') as f:\n",
        "    json.dump(rf_metrics, f, indent=2)\n"
      ],
      "metadata": {
        "id": "RF34AaJvMR-v"
      },
      "execution_count": 46,
      "outputs": []
    },
    {
      "cell_type": "markdown",
      "source": [
        "# Random Forest (Grid Search, Cross-Validation) Results\n",
        "\n",
        "## Overview\n",
        "\n",
        "Grid search with cross-validation was run for Random Forest to optimize `numTrees` and `maxDepth`.\n",
        "\n",
        "- **Validation AUC-ROC:** **0.954**\n",
        "- **Confusion Matrix:**  \n",
        "  |              | Pred 0 | Pred 1 |\n",
        "  |--------------|--------|--------|\n",
        "  | **Actual 0** |  967   |   14   |\n",
        "  | **Actual 1** |   44   |   57   |\n",
        "- **Fraud Precision:** 0.80\n",
        "- **Fraud Recall:** 0.56\n",
        "- **Accuracy:** 0.95\n",
        "\n",
        "**Best parameters (from MLflow/paramMap):**\n",
        "- numTrees: *100*\n",
        "- maxDepth: *5*\n",
        "\n",
        "**Interpretation:**  \n",
        "- Grid search model is robust, nearly matching the best baseline, with high recall and precision for fraud class.\n",
        "- ROC curve and metrics confirm strong performance and low risk of overfitting.\n",
        "\n",
        "---\n"
      ],
      "metadata": {
        "id": "TIWmbRcZ4G6q"
      }
    },
    {
      "cell_type": "markdown",
      "source": [
        "##Step 6: XGBoost Classifier (Scikit-learn API)\n"
      ],
      "metadata": {
        "id": "-Ck9Cudj4a-C"
      }
    },
    {
      "cell_type": "code",
      "source": [
        "import xgboost as xgb\n",
        "from sklearn.metrics import roc_auc_score, confusion_matrix, classification_report, roc_curve\n",
        "import matplotlib.pyplot as plt\n",
        "import mlflow\n",
        "import mlflow.sklearn\n",
        "\n",
        "# 1. Prepare Data (using the full set for now)\n",
        "X_train = X_train_full_filled.values\n",
        "X_val = X_val_full_filled.values\n",
        "y_train_arr = y_train.values\n",
        "y_val_arr = y_val.values\n"
      ],
      "metadata": {
        "id": "soi_Hydo4Y7Q"
      },
      "execution_count": 92,
      "outputs": []
    },
    {
      "cell_type": "code",
      "source": [
        "# Calculate scale_pos_weight to handle imbalance\n",
        "scale_pos_weight = (y_train == 0).sum() / (y_train == 1).sum()\n",
        "print(\"scale_pos_weight:\", scale_pos_weight)\n",
        "\n",
        "with mlflow.start_run(run_name=\"XGBoost Classifier\"):\n",
        "    clf = xgb.XGBClassifier(\n",
        "        n_estimators=100,\n",
        "        max_depth=5,\n",
        "        learning_rate=0.1,\n",
        "        scale_pos_weight=scale_pos_weight,  # handle class imbalance\n",
        "        random_state=42,\n",
        "        n_jobs=-1,\n",
        "        use_label_encoder=False,\n",
        "        eval_metric='auc'\n",
        "    )\n",
        "    clf.fit(X_train, y_train_arr, eval_set=[(X_val, y_val_arr)], verbose=False)\n",
        "    mlflow.sklearn.log_model(clf, \"xgboost-classifier\")\n",
        "\n",
        "    # Predict proba\n",
        "    y_proba = clf.predict_proba(X_val)[:, 1]\n",
        "    y_pred = clf.predict(X_val)\n",
        "\n",
        "    # Metrics\n",
        "    auc = roc_auc_score(y_val_arr, y_proba)\n",
        "    mlflow.log_metric(\"val_auc\", auc)\n",
        "    print(\"Validation AUC-ROC:\", auc)\n",
        "\n",
        "    # ROC curve\n",
        "    fpr, tpr, _ = roc_curve(y_val_arr, y_proba)\n",
        "    plt.figure(figsize=(6,5))\n",
        "    plt.plot(fpr, tpr, label=f\"AUC = {auc:.3f}\")\n",
        "    plt.plot([0,1],[0,1], 'k--')\n",
        "    plt.xlabel('False Positive Rate')\n",
        "    plt.ylabel('True Positive Rate')\n",
        "    plt.title('XGBoost: ROC Curve')\n",
        "    plt.legend()\n",
        "    plt.grid()\n",
        "    roc_path = \"/content/xgb_roc.png\"\n",
        "    plt.savefig(roc_path)\n",
        "    plt.savefig('/content/drive/MyDrive/healthcarefraud_detection/streamlit_app/data/plots/roc_XGBoost.png')\n",
        "    mlflow.log_artifact(roc_path)\n",
        "    plt.show()\n",
        "\n",
        "    # Confusion matrix and classification report\n",
        "    cm = confusion_matrix(y_val_arr, y_pred)\n",
        "    print(\"Confusion Matrix:\\n\", cm)\n",
        "    print(\"Classification Report:\\n\", classification_report(y_val_arr, y_pred))\n",
        "    import seaborn as sns\n",
        "    import matplotlib.pyplot as plt\n",
        "\n",
        "    fig, ax = plt.subplots()\n",
        "    sns.heatmap(cm, annot=True, fmt='d', cmap='Blues', ax=ax)\n",
        "    plt.xlabel('Predicted')\n",
        "    plt.ylabel('Actual')\n",
        "    plt.title('XGBoost Confusion Matrix')\n",
        "    plt.savefig('/content/drive/MyDrive/healthcarefraud_detection/streamlit_app/data/plots/conf_matrix_XGBoost.png')\n",
        "    plt.close()\n",
        "\n"
      ],
      "metadata": {
        "colab": {
          "base_uri": "https://localhost:8080/",
          "height": 872
        },
        "id": "fDrSH8nM39UG",
        "outputId": "b1aa114c-ac41-4b11-e563-638184743ea3"
      },
      "execution_count": 93,
      "outputs": [
        {
          "output_type": "stream",
          "name": "stdout",
          "text": [
            "scale_pos_weight: 9.686419753086419\n"
          ]
        },
        {
          "output_type": "stream",
          "name": "stderr",
          "text": [
            "/usr/local/lib/python3.11/dist-packages/xgboost/core.py:158: UserWarning: [23:14:18] WARNING: /workspace/src/learner.cc:740: \n",
            "Parameters: { \"use_label_encoder\" } are not used.\n",
            "\n",
            "  warnings.warn(smsg, UserWarning)\n",
            "2025/06/12 23:14:19 WARNING mlflow.models.model: `artifact_path` is deprecated. Please use `name` instead.\n",
            "\u001b[31m2025/06/12 23:14:21 WARNING mlflow.models.model: Model logged without a signature and input example. Please set `input_example` parameter when logging the model to auto infer the model signature.\u001b[0m\n"
          ]
        },
        {
          "output_type": "stream",
          "name": "stdout",
          "text": [
            "Validation AUC-ROC: 0.9487792815978846\n"
          ]
        },
        {
          "output_type": "display_data",
          "data": {
            "text/plain": [
              "<Figure size 600x500 with 1 Axes>"
            ],
            "image/png": "[encoded data removed]"
          },
          "metadata": {}
        },
        {
          "output_type": "stream",
          "name": "stdout",
          "text": [
            "Confusion Matrix:\n",
            " [[912  69]\n",
            " [ 24  77]]\n",
            "Classification Report:\n",
            "               precision    recall  f1-score   support\n",
            "\n",
            "           0       0.97      0.93      0.95       981\n",
            "           1       0.53      0.76      0.62       101\n",
            "\n",
            "    accuracy                           0.91      1082\n",
            "   macro avg       0.75      0.85      0.79      1082\n",
            "weighted avg       0.93      0.91      0.92      1082\n",
            "\n"
          ]
        }
      ]
    },
    {
      "cell_type": "code",
      "source": [
        "import json\n",
        "\n",
        "dt_metrics = {\n",
        "    \"model\": \"XGBoost\",\n",
        "    \"auc\": float(0.947),\n",
        "    \"precision_legit\": float(0.97),\n",
        "    \"precision_fraud\": float(0.53),\n",
        "    \"recall_legit\": float(0.93),\n",
        "    \"recall_fraud\": float(0.76),\n",
        "    \"f1_legit\": float(0.95),\n",
        "    \"f1_fraud\": float(0.62)\n",
        "}\n",
        "with open('/content/drive/MyDrive/healthcarefraud_detection/streamlit_app/data/metrics/XGBost_metrics.json', 'w') as f:\n",
        "    json.dump(dt_metrics, f, indent=2)\n"
      ],
      "metadata": {
        "id": "0qqbNVB_P25z"
      },
      "execution_count": 91,
      "outputs": []
    },
    {
      "cell_type": "markdown",
      "source": [
        "# XGBoost Modeling Results\n",
        "\n",
        "## Overview\n",
        "\n",
        "This section documents the performance of the **XGBoost classifier** (using scikit-learn API and pandas) on the provider fraud detection dataset.\n",
        "\n",
        "- **Data:** All engineered features, imputed and standardized\n",
        "- **Train/Validation Split:** 80/20, stratified\n",
        "- **Class Imbalance:** Handled via `scale_pos_weight` (≈9.7)\n",
        "- **Experiment Tracking:** MLflow logs and artifacts\n",
        "\n",
        "---\n",
        "\n",
        "## Model Performance\n",
        "\n",
        "- **Validation AUC-ROC:** **0.949**\n",
        "- **Confusion Matrix:**\n",
        "\n",
        "  |              | Predicted 0 | Predicted 1 |\n",
        "  |--------------|-------------|-------------|\n",
        "  | **Actual 0** |     912     |     69      |\n",
        "  | **Actual 1** |     24      |     77      |\n",
        "\n",
        "- **Classification Report:**\n",
        "\n",
        "  | Class | Precision | Recall | F1-score | Support |\n",
        "  |-------|-----------|--------|----------|---------|\n",
        "  |  0    |   0.97    |  0.93  |   0.95   |   981   |\n",
        "  |  1    |   0.53    |  0.76  |   0.62   |   101   |\n",
        "\n",
        "  - **Accuracy:** 0.91\n",
        "\n",
        "---\n",
        "\n",
        "## Interpretation & Insights\n",
        "\n",
        "- **AUC-ROC of 0.95** confirms strong performance, comparable to Logistic Regression and Random Forest.\n",
        "- **Highest fraud recall (0.76)** among all tested models: XGBoost flags more true frauds, reducing missed fraud at the cost of more false alarms.\n",
        "- **Precision for fraud (0.53)** reflects this tradeoff, but is still actionable for human review in real-world fraud operations.\n",
        "- **Overall:** XGBoost offers the best recall (catch rate) for fraud, making it an excellent candidate when business priority is not missing real fraud cases.\n",
        "\n",
        "---\n"
      ],
      "metadata": {
        "id": "1iPKWueP4xyd"
      }
    },
    {
      "cell_type": "markdown",
      "source": [
        "# Model Comparison & Final Recommendation\n",
        "\n",
        "## Model Performance Summary\n",
        "\n",
        "| Model                | AUC-ROC | Fraud Recall | Fraud Precision | Fraud F1 | Accuracy | Comments                        |\n",
        "|----------------------|---------|--------------|-----------------|----------|----------|---------------------------------|\n",
        "| Logistic Regression  | 0.955   |    0.55      |      0.79       |  0.65    |   0.94   | Strong baseline                 |\n",
        "| Decision Tree        | 0.654   |    0.54      |      0.47       |  0.51    |   0.90   | Not competitive                 |\n",
        "| Random Forest        | 0.956   |    0.57      |      0.76       |  0.66    |   0.94   | Excellent, robust               |\n",
        "| RF (Grid Search)     | 0.954   |    0.56      |      0.80       |  0.66    |   0.95   | Best tuned, very stable         |\n",
        "| XGBoost              | 0.949   |    0.76      |      0.53       |  0.62    |   0.91   | **Best recall, catches more fraud** |\n",
        "\n",
        "---\n",
        "\n",
        "## Interpretation\n",
        "\n",
        "- **Logistic Regression and Random Forest** (both default and tuned) offer excellent balanced performance and are very robust for tabular fraud detection.\n",
        "- **Decision Tree** underperforms—expected for a single tree on complex data.\n",
        "- **XGBoost provides the best recall (0.76)**, meaning it catches the highest proportion of true fraud cases, at the cost of more false positives. This is often preferred in high-stakes fraud detection.\n",
        "- **All top models (AUC ~0.95+) are production-quality** and suitable for real-world deployment.\n",
        "\n",
        "---\n",
        "\n",
        "## Recommendation\n",
        "\n",
        "- **If your business goal is to catch as much fraud as possible:**  \n",
        "  Use **XGBoost**—its higher recall means fewer fraudulent providers are missed. It’s well-suited for situations where reviewing more cases is acceptable.\n",
        "\n",
        "- **If you need higher precision and fewer false alarms:**  \n",
        "  Use **Random Forest (tuned)** or **Logistic Regression**—slightly lower recall, but higher precision, meaning less manual review load.\n",
        "\n",
        "- **All models (except Decision Tree) are robust and generalize well, as seen by cross-validation and strong metrics on the validation set.**\n",
        "\n",
        "---\n",
        "\n",
        "\n"
      ],
      "metadata": {
        "id": "NM5aoCLd5BDx"
      }
    },
    {
      "cell_type": "code",
      "source": [
        "# Save the XGBoost model to disk\n",
        "clf.save_model(\"/content/drive/MyDrive/healthcarefraud_detection/models/xgboost_fraud_model.json\")\n",
        "print(\"XGBoost model saved for SHAP analysis.\")\n"
      ],
      "metadata": {
        "colab": {
          "base_uri": "https://localhost:8080/"
        },
        "id": "yDANoRgO4er8",
        "outputId": "773c26d9-f26e-4536-d7b3-23955d289b42"
      },
      "execution_count": 102,
      "outputs": [
        {
          "output_type": "stream",
          "name": "stdout",
          "text": [
            "XGBoost model saved for SHAP analysis.\n"
          ]
        }
      ]
    },
    {
      "cell_type": "markdown",
      "source": [
        "Notebook complete: All key models trained and evaluated for fraud detection. XGBoost selected for next-step explainability (SHAP) due to its high recall for fraud class. Model saved to disk for interpretation and/or deployment."
      ],
      "metadata": {
        "id": "C7Fyj9Jp7Fvt"
      }
    },
    {
      "cell_type": "code",
      "source": [
        "pd.DataFrame(X_val_full_filled, columns=X_train_full_filled.columns).to_parquet(\"/content/drive/MyDrive/healthcarefraud_detection/data/processed/xgb_val_features.parquet\", index=False)\n",
        "y_val.to_frame().to_parquet(\"/content/drive/MyDrive/healthcarefraud_detection/data/processed/xgb_val_labels.parquet\", index=False)  # if y_val is a Series/DataFrame\n",
        "print(\"Validation set saved for SHAP.\")"
      ],
      "metadata": {
        "colab": {
          "base_uri": "https://localhost:8080/"
        },
        "id": "DAxg6SOY6_kf",
        "outputId": "c4625321-58c8-49e4-de87-29f0c5e6517d"
      },
      "execution_count": 103,
      "outputs": [
        {
          "output_type": "stream",
          "name": "stdout",
          "text": [
            "Validation set saved for SHAP.\n"
          ]
        }
      ]
    },
    {
      "cell_type": "code",
      "source": [
        "y_val_df = y_val.to_frame(name=\"PotentialFraud\")\n",
        "y_val_df.to_csv('/content/drive/MyDrive/healthcarefraud_detection/streamlit_app/data/y_val.csv', index=False)\n"
      ],
      "metadata": {
        "id": "rk467qCqRaOH"
      },
      "execution_count": 70,
      "outputs": []
    },
    {
      "cell_type": "code",
      "source": [
        "import pandas as pd\n",
        "\n",
        "# Save validation probabilities\n",
        "pd.DataFrame({'xgb_proba': y_proba}).to_csv(\n",
        "    \"/content/drive/MyDrive/healthcarefraud_detection/streamlit_app/data/xgb_val_proba.csv\",\n",
        "    index=False\n",
        ")\n",
        "\n",
        "# Save validation predicted labels (optional)\n",
        "pd.DataFrame({'xgb_pred': y_pred}).to_csv(\n",
        "    \"/content/drive/MyDrive/healthcarefraud_detection/streamlit_app/data/xgb_val_pred.csv\",\n",
        "    index=False\n",
        ")\n"
      ],
      "metadata": {
        "id": "XWTWbIc7UNMa"
      },
      "execution_count": 84,
      "outputs": []
    },
    {
      "cell_type": "code",
      "source": [
        "import shap\n",
        "explainer = shap.Explainer(clf, X_train)\n",
        "shap_values = explainer(X_val)\n",
        "\n",
        "import numpy as np\n",
        "np.save(\"/content/drive/MyDrive/healthcarefraud_detection/streamlit_app/data/xgb_val_shap.npy\", shap_values.values)\n"
      ],
      "metadata": {
        "id": "2hTtCZAXUwAw"
      },
      "execution_count": 85,
      "outputs": []
    },
    {
      "cell_type": "code",
      "source": [
        "import os\n",
        "\n",
        "model_dir = \"/content/drive/MyDrive/healthcarefraud_detection/streamlit_app/models\"\n",
        "os.makedirs(model_dir, exist_ok=True)  # Creates it if not present\n"
      ],
      "metadata": {
        "id": "B2QHjN-1Ux23"
      },
      "execution_count": 86,
      "outputs": []
    },
    {
      "cell_type": "code",
      "source": [
        "import joblib\n"
      ],
      "metadata": {
        "id": "YLYPasOzVJJP"
      },
      "execution_count": 87,
      "outputs": []
    },
    {
      "cell_type": "code",
      "source": [
        "joblib.dump(clf, f\"{model_dir}/xgb_classifier.pkl\")\n"
      ],
      "metadata": {
        "colab": {
          "base_uri": "https://localhost:8080/"
        },
        "id": "SCZcJTZ_VKF7",
        "outputId": "be87a9d5-0bf9-4cd5-ea18-0056d20a2c50"
      },
      "execution_count": 88,
      "outputs": [
        {
          "output_type": "execute_result",
          "data": {
            "text/plain": [
              "['/content/drive/MyDrive/healthcarefraud_detection/streamlit_app/models/xgb_classifier.pkl']"
            ]
          },
          "metadata": {},
          "execution_count": 88
        }
      ]
    },
    {
      "cell_type": "code",
      "source": [
        "clf.get_booster().save_model(f\"{model_dir}/xgb_classifier.json\")\n"
      ],
      "metadata": {
        "id": "Sl2zidCdVLT1"
      },
      "execution_count": 89,
      "outputs": []
    },
    {
      "cell_type": "code",
      "source": [],
      "metadata": {
        "id": "XtAIoI2cVM2F"
      },
      "execution_count": null,
      "outputs": []
    }
  ]
}